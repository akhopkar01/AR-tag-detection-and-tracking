{
  "nbformat": 4,
  "nbformat_minor": 0,
  "metadata": {
    "colab": {
      "name": "Untitled3.ipynb",
      "provenance": []
    },
    "kernelspec": {
      "name": "python3",
      "display_name": "Python 3"
    }
  },
  "cells": [
    {
      "cell_type": "code",
      "metadata": {
        "id": "SvZhjiWcUrON",
        "colab_type": "code",
        "colab": {}
      },
      "source": [
        "import numpy as np\n",
        "\n",
        "#sample points\n",
        "p1=[[155,120],[480,120],[20,475],[620,475]]\n",
        "p2=[[0,0],[400,0],[0,600],[400,600]]\n",
        "\n",
        "k=np.array([[1406.08415449821,0,0],\n",
        "    [2.20679787308599, 1417.99930662800,0],\n",
        "    [1014.13643417416, 566.347754321696,1]]).T\n",
        "print(k)\n",
        "def homography(p1, p2):\n",
        "  A= []\n",
        "  for val in range(0,len(p1)):\n",
        "    x_1, y_1 = p1[val][0], p1[val][1]\n",
        "    x_2, y_2 =p2[val][0], p2[val][1]\n",
        "    A.append([x_1, y_1, 1 ,0 ,0 ,0, -x_2 * x_1, -x_2 * y_1, -x_2 ])\n",
        "    A.append([0, 0 ,0 ,x_1, y_1, 1, -y_2*x_1, -y_2 * y_1, -y_2 ])\n",
        "\n",
        "  A=np.array(A)\n",
        "  u,S,Vh = np.linalg.svd(A)\n",
        "  #print(Vh)\n",
        "  l= Vh[-1,:]/Vh[-1,-1]\n",
        "  h= np.reshape(l,(3,3))\n",
        "  return h\n",
        "\n",
        "def img_perspective(h,k):\n",
        "  h1= h[:,0]\n",
        "  h2= h[:,1]\n",
        "  h3= h[:,2]\n",
        "  k1= np.linalg.inv(k)\n",
        "  l= 2/(np.linalg.norm(np.matmul(k1,h1))+ np.linalg.norm(np.matmul(k1,h2)))\n",
        "  #l1= np.linalg.inv(l)\n",
        "  bt= l* np.matmul(k1,h)\n",
        "  det= np.linalg.det(bt)\n",
        "  if det>0:\n",
        "    b= bt\n",
        "  else:\n",
        "    b= -1*bt\n",
        "\n",
        "  ro1= b[:,0]\n",
        "  ro2= b[:,1]\n",
        "  ro3= np.cross(ro1,ro2)\n",
        "  t= b[:,2]\n",
        "  R= np.column_stack((ro1,ro2,ro3,t))\n",
        "  proj_mat= np.matmul(k,R)\n",
        "  return proj_mat\n",
        "\n",
        "\n",
        "h= homography(p1,p2)\n",
        "img_perspective(h,k)\n",
        "\n"
      ],
      "execution_count": 0,
      "outputs": []
    }
  ]
}